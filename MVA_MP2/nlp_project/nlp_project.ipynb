{
 "cells": [
  {
   "cell_type": "markdown",
   "metadata": {},
   "source": [
    "# Deep Learning for NLP - Project"
   ]
  },
  {
   "cell_type": "markdown",
   "metadata": {},
   "source": [
    "RULES:\n",
    "\n",
    "* Do not create any additional cell\n",
    "\n",
    "* Fill in the blanks\n",
    "\n",
    "* All cells should be runnable (modulo trivial compatibility bugs that we'd fix)\n",
    "\n",
    "* 4 / 20 points will be allocated to the clarity of your code\n",
    "\n",
    "* Efficient code will have a bonus\n",
    "\n",
    "DELIVERABLE:\n",
    "\n",
    "* this notebook\n",
    "* the predictions of the SST test set\n",
    "\n",
    "DO NOT INCLUDE THE DATASETS IN THE DELIVERABLE.."
   ]
  },
  {
   "cell_type": "code",
   "execution_count": 1,
   "metadata": {},
   "outputs": [],
   "source": [
    "import io\n",
    "import os\n",
    "import numpy as np\n",
    "import scipy\n",
    "from sklearn.linear_model import LogisticRegression\n",
    "from sklearn import metrics\n",
    "from sklearn.ensemble import RandomForestClassifier\n",
    "from sklearn.ensemble import AdaBoostClassifier\n",
    "from sklearn.tree import DecisionTreeClassifier\n",
    "from sklearn.svm import LinearSVC\n",
    "import matplotlib.pyplot as plt"
   ]
  },
  {
   "cell_type": "code",
   "execution_count": 2,
   "metadata": {},
   "outputs": [],
   "source": [
    "PATH_TO_DATA = r\"C:/Users/assae/Documents/Cours CS/3A/OMA/Deep learning/Deep Learning MVA/MVA_MP2/nlp_project/data/\""
   ]
  },
  {
   "cell_type": "markdown",
   "metadata": {},
   "source": [
    "# 1) Monolingual (English) word embeddings "
   ]
  },
  {
   "cell_type": "code",
   "execution_count": 6,
   "metadata": {},
   "outputs": [],
   "source": [
    "class Word2vec():\n",
    "    def __init__(self, fname, nmax=100000):\n",
    "        self.load_wordvec(fname, nmax)\n",
    "        self.word2id = dict.fromkeys(self.word2vec.keys())\n",
    "        self.id2word = {v: k for k, v in self.word2id.items()}\n",
    "        self.embeddings = np.array(self.word2vec.values())\n",
    "    \n",
    "    def load_wordvec(self, fname, nmax):\n",
    "        self.word2vec = {}\n",
    "        with io.open(fname, encoding='utf-8') as f:\n",
    "            next(f)\n",
    "            for i, line in enumerate(f):\n",
    "                word, vec = line.split(' ', 1)\n",
    "                word = word.lower()\n",
    "                self.word2vec[word] = np.fromstring(vec, sep=' ')\n",
    "                if i == (nmax - 1):\n",
    "                    break\n",
    "        print('Loaded %s pretrained word vectors' % (len(self.word2vec)))\n",
    "\n",
    "    def most_similar(self, w, K=5):\n",
    "        # K most similar words: self.score  -  np.argsort \n",
    "        score_list = np.array([])\n",
    "        keys  = list(self.word2vec.keys())\n",
    "        \n",
    "        for word in keys:\n",
    "            score_list = np.concatenate((score_list, [self.score(w, word)]), axis=0)\n",
    "        \n",
    "        # we take the opposite of each value, which allow us to sort sorted_index in reverse order \n",
    "        # (all valuesof score_list are between 0 and 1\n",
    "        sorted_index = np.argsort(-score_list)\n",
    "        knn = []\n",
    "        for j in range(1,K+1):\n",
    "            knn.append(keys[sorted_index[j]])    \n",
    "        return knn\n",
    "\n",
    "    def score(self, w1, w2):\n",
    "        # cosine similarity: np.dot  -  np.linalg.norm\n",
    "        v1 = self.word2vec[w1]\n",
    "        v2 = self.word2vec[w2]\n",
    "        cos_sim = np.dot(v1, v2) / (np.linalg.norm(v1)*np.linalg.norm(v2))\n",
    "        return cos_sim\n"
   ]
  },
  {
   "cell_type": "code",
   "execution_count": 4,
   "metadata": {},
   "outputs": [
    {
     "name": "stdout",
     "output_type": "stream",
     "text": [
      "Loaded 19765 pretrained word vectors\n",
      "Similarity between cat and dog : 0.2510936879670139\n",
      "Similarity between dog and pet : 0.28149744895768625\n",
      "Similarity between dogs and cats : 0.6747577573530962\n",
      "Similarity between paris and france : 0.7058595452409975\n",
      "Similarity between germany and berlin : 0.7060253015336013\n",
      "\n",
      "\n",
      "cat is most similar to the words in ['man', 'sat', 'pet', 'act', 'star']\n",
      "dog is most similar to the words in ['dogs', 'puppy', 'canine', 'horse', 'pets']\n",
      "dogs is most similar to the words in ['dog', 'pets', 'cats', 'animals', 'horses']\n",
      "paris is most similar to the words in ['parisian', 'france', 'versailles', 'lyon', 'bordeaux']\n",
      "germany is most similar to the words in ['austria', 'bavaria', 'berlin', 'munich', 'hamburg']\n"
     ]
    }
   ],
   "source": [
    "w2v = Word2vec(os.path.join(PATH_TO_DATA, 'crawl-300d-200k.vec'), nmax=25000)\n",
    "\n",
    "# You will be evaluated on the output of the following:\n",
    "for w1, w2 in zip(('cat', 'dog', 'dogs', 'paris', 'germany'), ('dog', 'pet', 'cats', 'france', 'berlin')):\n",
    "    print(\"Similarity between\", w1, \"and\", w2, \":\" , w2v.score(w1, w2))\n",
    "print(\"\\n\")\n",
    "for w1 in ['cat', 'dog', 'dogs', 'paris', 'germany']:\n",
    "    print(w1, \"is most similar to the words in\", w2v.most_similar(w1))"
   ]
  },
  {
   "cell_type": "code",
   "execution_count": 7,
   "metadata": {},
   "outputs": [],
   "source": [
    "class BoV():\n",
    "    def __init__(self, w2v):\n",
    "        self.w2v = w2v\n",
    "    \n",
    "    def encode(self, sentences, idf=False):\n",
    "        # takes a list of sentences, outputs a numpy array of sentence embeddings\n",
    "        # see TP1 for help\n",
    "        sentemb = []\n",
    "        \n",
    "        for sent in sentences:\n",
    "            if idf is False:\n",
    "                # mean of word vectors\n",
    "                list_w_emb = []\n",
    "                for w in set(sent.split()):\n",
    "                    list_w_emb.append(self.w2v.word2vec.get(w, np.zeros((300,))))\n",
    "                sum_v = 0\n",
    "                for v in list_w_emb:\n",
    "                    sum_v += v\n",
    "                sentemb.append(sum_v/len(list_w_emb))\n",
    "                \n",
    "            else:\n",
    "                # idf-weighted mean of word vectors\n",
    "                list_w_emb = []\n",
    "                for w in set(sent.split()):\n",
    "                    list_w_emb.append(np.dot(self.w2v.word2vec.get(w, np.zeros((300,))), idf.get(w, 0)))\n",
    "                sum_v = 0\n",
    "                for v in list_w_emb:\n",
    "                    sum_v += v\n",
    "                sentemb.append(sum_v/len(list_w_emb))\n",
    "        return np.vstack(sentemb)\n",
    "\n",
    "    def most_similar(self, s, sentences, idf=False, K=5):\n",
    "        # get most similar sentences and **print** them\n",
    "        keys = self.encode(sentences, idf)\n",
    "        query = self.encode([s], idf)\n",
    "        \n",
    "        score_list = np.array([])\n",
    "        \n",
    "        for i in range(len(keys)):\n",
    "            score_list = np.concatenate((score_list, [self.score(s, sentences[i], idf)]), axis=0)\n",
    "        \n",
    "        # we take the opposite of each value, which allow us to sort sorted_index in reverse order \n",
    "        # (all valuesof score_list are between 0 and 1\n",
    "        sorted_index = np.argsort(-score_list)\n",
    "        knn = []\n",
    "        for j in range(1, K+1):\n",
    "            knn.append(sentences[sorted_index[j]])    \n",
    "        return knn\n",
    "\n",
    "    def score(self, s1, s2, idf=False):\n",
    "        # cosine similarity: use   np.dot  and  np.linalg.norm\n",
    "        v1 = self.encode([s1], idf)[0]\n",
    "        v2 = self.encode([s2], idf)[0]\n",
    "        cos_sim = np.dot(v1, v2) / (np.linalg.norm(v1)*np.linalg.norm(v2))\n",
    "        return cos_sim\n",
    "    \n",
    "    def build_idf(self, sentences):\n",
    "        # build the idf dictionary: associate each word to its idf value\n",
    "        idf = {}\n",
    "        for sent in sentences:\n",
    "            for w in set(sent.split()):\n",
    "                idf[w] = idf.get(w, 0) + 1\n",
    "        for word in list(idf.keys()):\n",
    "            idf[word] = max(1, np.log10(len(sentences) / (idf[word])))\n",
    "        return idf\n"
   ]
  },
  {
   "cell_type": "code",
   "execution_count": 6,
   "metadata": {
    "scrolled": false
   },
   "outputs": [
    {
     "name": "stdout",
     "output_type": "stream",
     "text": [
      "Loaded 4367 pretrained word vectors\n",
      "Mean model \n",
      "\n"
     ]
    },
    {
     "name": "stderr",
     "output_type": "stream",
     "text": [
      "C:\\Users\\assae\\Anaconda3\\lib\\site-packages\\ipykernel_launcher.py:54: RuntimeWarning: invalid value encountered in double_scalars\n"
     ]
    },
    {
     "name": "stdout",
     "output_type": "stream",
     "text": [
      "1 smiling african american boy . \n",
      " Similar to the sentences in: ['an african american man smiling . \\n', 'african american female in a gray dress . \\n', 'african american woman bouncing black basketball \\n', 'an african american male holding a microphone . \\n', 'an african american man playing a saxophone . \\n']\n",
      "\n",
      "\n",
      "Similarity between: \n",
      " 1 man singing and 1 man playing a saxophone in a concert . \n",
      " 10 people venture out to go crosscountry skiing . \n",
      " 0.5505701983202919\n",
      "\n",
      "\n",
      "\n",
      "\n",
      "IDF model \n",
      "\n",
      "1 smiling african american boy . \n",
      " Similar to the sentences in: ['an african american man smiling . \\n', 'an african american man playing a saxophone . \\n', 'an african american man is sitting . \\n', 'african american woman bouncing black basketball \\n', 'an african american in sunglasses and a white tee-shirt smiles . \\n']\n",
      "\n",
      "\n",
      "Similarity between: \n",
      " 1 man singing and 1 man playing a saxophone in a concert . \n",
      " 10 people venture out to go crosscountry skiing . \n",
      " 0.5246814806185796\n"
     ]
    }
   ],
   "source": [
    "w2v = Word2vec(os.path.join(PATH_TO_DATA, 'crawl-300d-200k.vec'), nmax=5000)\n",
    "s2v = BoV(w2v)\n",
    "\n",
    "\n",
    "# Load sentences in \"PATH_TO_DATA/sentences.txt\"\n",
    "with io.open(os.path.join(PATH_TO_DATA, 'sentences.txt'), encoding='utf-8') as f:\n",
    "    sentences = list(f)\n",
    "\n",
    "    \n",
    "\n",
    "no_idf = True   \n",
    "print(\"Mean model \\n\")\n",
    "# Build idf scores for each word\n",
    "idf = {} if no_idf else s2v.build_idf(sentences)\n",
    "# You will be evaluated on the output of the following:\n",
    "print('' if not sentences else sentences[10], \"Similar to the sentences in:\", s2v.most_similar('' if not sentences else sentences[10], sentences))  # BoV-mean\n",
    "print(\"\\n\")\n",
    "print(\"Similarity between: \\n\", '' if not sentences else sentences[7], '' if not sentences else sentences[13], s2v.score('' if not sentences else sentences[7], '' if not sentences else sentences[13]))\n",
    "\n",
    "\n",
    "no_idf = False\n",
    "print(\"\\n\")\n",
    "print(\"\\n\")\n",
    "print(\"IDF model \\n\")\n",
    "idf = {} if no_idf else s2v.build_idf(sentences) \n",
    "print('' if not sentences else sentences[10], \"Similar to the sentences in:\", s2v.most_similar('' if not sentences else sentences[10], sentences, idf))  # BoV-idf\n",
    "print(\"\\n\")\n",
    "print(\"Similarity between: \\n\", '' if not sentences else sentences[7], '' if not sentences else sentences[13], s2v.score('' if not sentences else sentences[7], '' if not sentences else sentences[13], idf))"
   ]
  },
  {
   "cell_type": "markdown",
   "metadata": {},
   "source": [
    "# 2) Multilingual (English-French) word embeddings"
   ]
  },
  {
   "cell_type": "markdown",
   "metadata": {},
   "source": [
    "Let's consider a bilingual dictionary of size V_a (e.g French-English).\n",
    "\n",
    "Let's define **X** and **Y** the **French** and **English** matrices.\n",
    "\n",
    "They contain the embeddings associated to the words in the bilingual dictionary.\n",
    "\n",
    "We want to find a **mapping W** that will project the source word space (e.g French) to the target word space (e.g English).\n",
    "\n",
    "Procrustes : **W\\* = argmin || W.X - Y ||  s.t  W^T.W = Id**\n",
    "has a closed form solution:\n",
    "**W = U.V^T  where  U.Sig.V^T = SVD(Y.X^T)**\n",
    "\n",
    "In what follows, you are asked to: "
   ]
  },
  {
   "cell_type": "code",
   "execution_count": 7,
   "metadata": {},
   "outputs": [],
   "source": [
    "# 1 - Download and load 50k first vectors of\n",
    "#     https://s3-us-west-1.amazonaws.com/fasttext-vectors/wiki.en.vec\n",
    "#     https://s3-us-west-1.amazonaws.com/fasttext-vectors/wiki.fr.vec\n",
    "\n",
    "# TYPE CODE HERE\n",
    "\n",
    "english_dict = {}\n",
    "f = io.open(os.path.join(PATH_TO_DATA, 'wiki.en.vec'), encoding='utf-8')\n",
    "next(f)\n",
    "line = f.readline()\n",
    "i = 0\n",
    "while line and i<50000:\n",
    "    i+=1\n",
    "    sl = line.split(' ', 1)\n",
    "    english_dict[sl[0]] = [float(x) for x in sl[1].split(' ')[0:300]]\n",
    "    line = f.readline()\n",
    "f.close()\n",
    "\n",
    "        \n",
    "french_dict = {}\n",
    "f = io.open(os.path.join(PATH_TO_DATA, 'wiki.fr.vec'), encoding='utf-8')\n",
    "next(f)\n",
    "line = f.readline()\n",
    "i = 0\n",
    "while line and i<50000:\n",
    "    i+=1\n",
    "    sl = line.split(' ', 1)\n",
    "    french_dict[sl[0]] = [float(x) for x in sl[1].split(' ')[0:300]]\n",
    "    line = f.readline()\n",
    "f.close()"
   ]
  },
  {
   "cell_type": "code",
   "execution_count": 8,
   "metadata": {
    "scrolled": true
   },
   "outputs": [],
   "source": [
    "# 2 - Get words that appear in both vocabs (= identical character strings)\n",
    "#     Use it to create the matrix X and Y (of aligned embeddings for these words)\n",
    "\n",
    "# TYPE CODE HERE\n",
    "\n",
    "identics = set(french_dict.keys()).intersection(set(english_dict.keys()))\n",
    "    \n",
    "X = []\n",
    "Y = []\n",
    "for word in identics:\n",
    "    X.append(french_dict[word])\n",
    "    Y.append(english_dict[word])\n",
    "    \n",
    "X = np.transpose(np.vstack(X))\n",
    "Y = np.transpose(np.vstack(Y))"
   ]
  },
  {
   "cell_type": "code",
   "execution_count": 9,
   "metadata": {},
   "outputs": [],
   "source": [
    "# 3 - Solve the Procrustes using the scipy package and: scipy.linalg.svd() and get the optimal W\n",
    "#     Now W*French_vector is in the same space as English_vector\n",
    "\n",
    "# TYPE CODE HERE\n",
    "\n",
    "U, s, Vh = scipy.linalg.svd(np.dot(Y, np.transpose(X)))\n",
    "W = np.dot(U, Vh)"
   ]
  },
  {
   "cell_type": "code",
   "execution_count": 10,
   "metadata": {
    "scrolled": false
   },
   "outputs": [
    {
     "name": "stdout",
     "output_type": "stream",
     "text": [
      "louer \n",
      " Closest traductions in English: ['renting', 'rented', 'lodging', 'accommodations', 'rents', 'rent', 'hire', 'lodgings', 'rental', 'lease']\n",
      "\n",
      "\n",
      "rent \n",
      " Closest traductions in French: ['loyer', 'locations', 'locataire', 'locataires', 'loyers', 'louer', 'taxation', 'payer', 'taxes', 'remboursement']\n"
     ]
    }
   ],
   "source": [
    "# 4 - After alignment with W, give examples of English nearest neighbors of some French words (and vice versa)\n",
    "#     You will be evaluated on that part and the code above\n",
    "\n",
    "# TYPE CODE HERE\n",
    "\n",
    "def score(v1, v2):\n",
    "    cos_sim = np.dot(v1, v2) / (np.linalg.norm(v1)*np.linalg.norm(v2))\n",
    "    return cos_sim\n",
    "\n",
    "\n",
    "### French to English\n",
    "\n",
    "french_word = 'louer'\n",
    "nb_closed_words_desired = 10\n",
    "\n",
    "french_emb = french_dict[french_word]\n",
    "english_emb = np.dot(W, np.transpose(french_emb))\n",
    "\n",
    "english_closest_traductions = []\n",
    "scores = []\n",
    "eng_key_emb = list(english_dict.keys())\n",
    "eng_val_emb = list(english_dict.values())\n",
    "for i in range(len(eng_val_emb)):\n",
    "    scores.append(score(english_emb, eng_val_emb[i]))\n",
    "scores = np.array(scores)\n",
    "sorted_index = np.argsort(-scores)\n",
    "\n",
    "for j in range(nb_closed_words_desired):\n",
    "    english_closest_traductions.append(eng_key_emb[sorted_index[j]])\n",
    "    \n",
    "print(french_word, \"\\n Closest traductions in English:\", english_closest_traductions)\n",
    "\n",
    "\n",
    "print(\"\\n\")\n",
    "### English to French\n",
    "\n",
    "english_word = 'rent'\n",
    "nb_closed_words_desired = 10\n",
    "\n",
    "english_emb = english_dict[english_word]\n",
    "french_emb = np.dot(np.transpose(W), np.transpose(english_emb))\n",
    "\n",
    "french_closest_traductions = []\n",
    "scores = []\n",
    "fr_key_emb = list(french_dict.keys())\n",
    "fr_val_emb = list(french_dict.values())\n",
    "for i in range(len(fr_val_emb)):\n",
    "    scores.append(score(french_emb, fr_val_emb[i]))\n",
    "scores = np.array(scores)\n",
    "sorted_index = np.argsort(-scores)\n",
    "\n",
    "for j in range(nb_closed_words_desired):\n",
    "    french_closest_traductions.append(fr_key_emb[sorted_index[j]])\n",
    "    \n",
    "print(english_word, \"\\n Closest traductions in French:\", french_closest_traductions)\n"
   ]
  },
  {
   "cell_type": "markdown",
   "metadata": {},
   "source": [
    "If you want to dive deeper on this subject: https://github.com/facebookresearch/MUSE"
   ]
  },
  {
   "cell_type": "markdown",
   "metadata": {},
   "source": [
    "# 3) Sentence classification with BoV and scikit-learn"
   ]
  },
  {
   "cell_type": "code",
   "execution_count": 139,
   "metadata": {},
   "outputs": [],
   "source": [
    "# 1 - Load train/dev/test of Stanford Sentiment TreeBank (SST)\n",
    "#     (https://nlp.stanford.edu/~socherr/EMNLP2013_RNTN.pdf)\n",
    "\n",
    "\n",
    "\n",
    "# TYPE CODE HERE\n",
    "\n",
    "sentences_train = []\n",
    "sentences_train_label = []\n",
    "with io.open(os.path.join(PATH_TO_DATA, 'SST/stsa.fine.train'), encoding='utf-8') as f:\n",
    "    for line in f: \n",
    "        sentences_train.append(line.split(' ', 1)[1])\n",
    "        sentences_train_label.append(int(line.split(' ', 1)[0]))\n",
    "        \n",
    "sentences_dev = []\n",
    "sentences_dev_label = []\n",
    "with io.open(os.path.join(PATH_TO_DATA, 'SST/stsa.fine.dev'), encoding='utf-8') as f:\n",
    "    for line in f: \n",
    "        sentences_dev.append(line.split(' ', 1)[1])\n",
    "        sentences_dev_label.append(int(line.split(' ', 1)[0]))\n",
    "\n",
    "\n",
    "with io.open(os.path.join(PATH_TO_DATA, 'SST/stsa.fine.test'), encoding='utf-8') as f:\n",
    "    sentences_test = list(f)"
   ]
  },
  {
   "cell_type": "code",
   "execution_count": 12,
   "metadata": {},
   "outputs": [
    {
     "name": "stdout",
     "output_type": "stream",
     "text": [
      "Loaded 19765 pretrained word vectors\n"
     ]
    }
   ],
   "source": [
    "# 2 - Encode sentences with the BoV model above\n",
    "\n",
    "# TYPE CODE HERE\n",
    "\n",
    "w2v = Word2vec(os.path.join(PATH_TO_DATA, 'crawl-300d-200k.vec'), nmax=25000)\n",
    "s2v = BoV(w2v)\n",
    "\n",
    "#without idf - mean\n",
    "\n",
    "encode_sentences_train_mean = s2v.encode(sentences_train)\n",
    "encode_sentences_dev_mean = s2v.encode(sentences_dev)\n",
    "encode_sentences_test_mean = s2v.encode(sentences_test)\n",
    "\n",
    "# with idf\n",
    "\n",
    "sentences = []\n",
    "for sent in np.concatenate(([*sentences_train], [*sentences_dev], [*sentences_test])): \n",
    "    sentences.append(sent)\n",
    "    \n",
    "idf = s2v.build_idf(sentences)\n",
    "\n",
    "encode_sentences_train_idf = s2v.encode(sentences_train, idf)\n",
    "encode_sentences_dev_idf = s2v.encode(sentences_dev, idf)\n",
    "encode_sentences_test_idf = s2v.encode(sentences_test, idf)"
   ]
  },
  {
   "cell_type": "code",
   "execution_count": 13,
   "metadata": {
    "scrolled": true
   },
   "outputs": [
    {
     "name": "stdout",
     "output_type": "stream",
     "text": [
      "SCORE_Training_Set_Mean 0.4666432584269663\n",
      "SCORE_Dev_Set_Mean 0.40236148955495005\n",
      "SCORE_Training_Set_IDF 0.44335205992509363\n",
      "SCORE_Dev_Set_IDF 0.3932788374205268\n"
     ]
    }
   ],
   "source": [
    "# 3 - Learn Logistic Regression on top of sentence embeddings using scikit-learn\n",
    "#     (consider tuning the L2 regularization on the dev set)\n",
    "\n",
    "# TYPE CODE HERE\n",
    "\n",
    "\n",
    "#without idf - mean\n",
    "\n",
    "clf_mean = LogisticRegression(penalty='l2', solver='lbfgs', max_iter=500, multi_class='multinomial', C=1.27)\n",
    "clf_mean.fit(encode_sentences_train_mean, np.array(sentences_train_label))\n",
    "\n",
    "score = clf_mean.score(encode_sentences_train_mean, np.array(sentences_train_label))\n",
    "print('SCORE_Training_Set_Mean', score)\n",
    "score = clf_mean.score(encode_sentences_dev_mean, np.array(sentences_dev_label))\n",
    "print('SCORE_Dev_Set_Mean', score)\n",
    "\n",
    "\n",
    "# with idf\n",
    "\n",
    "clf_idf = LogisticRegression(penalty='l2', solver='lbfgs', max_iter=500, multi_class='multinomial', C=0.04)\n",
    "clf_idf.fit(encode_sentences_train_idf, np.array(sentences_train_label))\n",
    "\n",
    "score = clf_idf.score(encode_sentences_train_idf, np.array(sentences_train_label))\n",
    "print('SCORE_Training_Set_IDF', score)\n",
    "score = clf_idf.score(encode_sentences_dev_idf, np.array(sentences_dev_label))\n",
    "print('SCORE_Dev_Set_IDF', score)"
   ]
  },
  {
   "cell_type": "code",
   "execution_count": 14,
   "metadata": {},
   "outputs": [],
   "source": [
    "# 4 - Produce 2210 predictions for the test set (in the same order). One line = one prediction (=0,1,2,3,4).\n",
    "#     Attach the output file \"logreg_bov_y_test_sst.txt\" to your deliverable.\n",
    "#     You will be evaluated on the results of the test set.\n",
    "\n",
    "# TYPE CODE HERE\n",
    "\n",
    "#The best score on the dev set is obtained whith the Mean model. We are making predictions using this model.\n",
    "\n",
    "predictions_test = []\n",
    "f = io.open(os.path.join(PATH_TO_DATA, 'SST/logreg_bov_y_test_sst.txt'),'w')\n",
    "for i in range(len(encode_sentences_test_mean)):\n",
    "    predictions_test.append(clf_mean.predict(encode_sentences_test_mean[i:i+1])[0])\n",
    "    f.write(str(predictions_test[i]) + \"\\n\")\n",
    "f.close()\n",
    "    "
   ]
  },
  {
   "cell_type": "code",
   "execution_count": 15,
   "metadata": {},
   "outputs": [
    {
     "name": "stdout",
     "output_type": "stream",
     "text": [
      "SCORE_Training_Set_Mean 0.45657771535580527\n",
      "SCORE_Dev_Set_Mean 0.40417801998183467\n"
     ]
    }
   ],
   "source": [
    "# BONUS!\n",
    "# 5 - Try to improve performance with another classifier\n",
    "#     Attach the output file \"XXX_bov_y_test_sst.txt\" to your deliverable (where XXX = the name of the classifier)\n",
    "\n",
    "# TYPE CODE HERE\n",
    "\n",
    "\n",
    "#without idf - mean\n",
    "\n",
    "# the trials gave worse results using idf. It is a minor improvement comparing to the results with the logistic regression.\n",
    "\n",
    "clfsvm_mean = LinearSVC(C=0.05)\n",
    "clfsvm_mean.fit(encode_sentences_train_mean, np.array(sentences_train_label))\n",
    "\n",
    "score = clfsvm_mean.score(encode_sentences_train_mean, np.array(sentences_train_label))\n",
    "print('SCORE_Training_Set_Mean', score)\n",
    "score = clfsvm_mean.score(encode_sentences_dev_mean, np.array(sentences_dev_label))\n",
    "print('SCORE_Dev_Set_Mean', score)\n",
    "\n",
    "\n",
    "predictions_test = []\n",
    "f = io.open(os.path.join(PATH_TO_DATA, 'SST/svm_bov_y_test_sst.txt'),'w')\n",
    "for i in range(len(encode_sentences_test_mean)):\n",
    "    predictions_test.append(clfsvm_mean.predict(encode_sentences_test_mean[i:i+1])[0])\n",
    "    f.write(str(predictions_test[i]) + \"\\n\")\n",
    "f.close()"
   ]
  },
  {
   "cell_type": "markdown",
   "metadata": {},
   "source": [
    "# 4) Sentence classification with LSTMs in Keras"
   ]
  },
  {
   "cell_type": "markdown",
   "metadata": {},
   "source": [
    "## 4.1 - Preprocessing"
   ]
  },
  {
   "cell_type": "code",
   "execution_count": 4,
   "metadata": {
    "scrolled": true
   },
   "outputs": [],
   "source": [
    "import keras"
   ]
  },
  {
   "cell_type": "code",
   "execution_count": 140,
   "metadata": {},
   "outputs": [],
   "source": [
    "# 1 - Load train/dev/test sets of SST\n",
    "PATH_TO_DATA = r\"C:/Users/assae/Documents/Cours CS/3A/OMA/Deep learning/Deep Learning MVA/MVA_MP2/nlp_project/data/\"\n",
    "\n",
    "# TYPE CODE HERE\n",
    "\n",
    "sentences_train = []\n",
    "sentences_train_label = []\n",
    "with io.open(os.path.join(PATH_TO_DATA, 'SST/stsa.fine.train'), encoding='utf-8') as f:\n",
    "    for line in f: \n",
    "        sentences_train.append(line.split(' ', 1)[1])\n",
    "        sentences_train_label.append(int(line.split(' ', 1)[0]))\n",
    "y_train = keras.utils.to_categorical(sentences_train_label)\n",
    "size_train = len(sentences_train)\n",
    "\n",
    "sentences_dev = []\n",
    "sentences_dev_label = []\n",
    "with io.open(os.path.join(PATH_TO_DATA, 'SST/stsa.fine.dev'), encoding='utf-8') as f:\n",
    "    for line in f: \n",
    "        sentences_dev.append(line.split(' ', 1)[1])\n",
    "        sentences_dev_label.append(int(line.split(' ', 1)[0]))\n",
    "y_dev = keras.utils.to_categorical(sentences_dev_label)\n",
    "size_dev = len(sentences_dev)\n",
    "        \n",
    "with io.open(os.path.join(PATH_TO_DATA, 'SST/stsa.fine.test'), encoding='utf-8') as f:\n",
    "    sentences_test = list(f)\n",
    "size_test = len(sentences_test)"
   ]
  },
  {
   "cell_type": "code",
   "execution_count": 125,
   "metadata": {
    "scrolled": true
   },
   "outputs": [],
   "source": [
    "# 2 - Transform text to integers using keras.preprocessing.text.one_hot function\n",
    "#     https://keras.io/preprocessing/text/\n",
    "\n",
    "# TYPE CODE HERE\n",
    "\n",
    "encode_sentences_total = []\n",
    "\n",
    "for sent in np.concatenate(([*sentences_train], [*sentences_dev], [*sentences_test])): \n",
    "    encode_sentences_total.append(keras.preprocessing.text.one_hot(sent, 25000))\n",
    "    "
   ]
  },
  {
   "cell_type": "markdown",
   "metadata": {},
   "source": [
    "**Padding input data**\n",
    "\n",
    "Models in Keras (and elsewhere) take batches of sentences of the same length as input. It is because Deep Learning framework have been designed to handle well Tensors, which are particularly suited for fast computation on the GPU.\n",
    "\n",
    "Since sentences have different sizes, we \"pad\" them. That is, we add dummy \"padding\" tokens so that they all have the same length.\n",
    "\n",
    "The input to a Keras model thus has this size : (batchsize, maxseqlen) where maxseqlen is the maximum length of a sentence in the batch."
   ]
  },
  {
   "cell_type": "code",
   "execution_count": 126,
   "metadata": {},
   "outputs": [],
   "source": [
    "# 3 - Pad your sequences using keras.preprocessing.sequence.pad_sequences\n",
    "#     https://keras.io/preprocessing/sequence/\n",
    "\n",
    "# TYPE CODE HERE\n",
    "\n",
    "pad_encode_sentences_total = keras.preprocessing.sequence.pad_sequences(encode_sentences_total)\n",
    "\n",
    "x_train = pad_encode_sentences_total[0:size_train]\n",
    "x_dev = pad_encode_sentences_total[size_train:size_train+size_dev]\n",
    "x_test = pad_encode_sentences_total[size_train+size_dev:]"
   ]
  },
  {
   "cell_type": "markdown",
   "metadata": {},
   "source": [
    "## 4.2 - Design and train your model"
   ]
  },
  {
   "cell_type": "code",
   "execution_count": 127,
   "metadata": {},
   "outputs": [],
   "source": [
    "# 4 - Design your encoder + classifier using keras.layers\n",
    "#     In Keras, Torch and other deep learning framework, we create a \"container\" which is the Sequential() module.\n",
    "#     Then we add components to this contained : the lookuptable, the LSTM, the classifier etc.\n",
    "#     All of these components are contained in the Sequential() and are trained together.\n",
    "\n",
    "\n",
    "# ADAPT CODE BELOW\n",
    "\n",
    "\n",
    "from keras.models import Sequential\n",
    "from keras.layers import Embedding, LSTM, Dense, Activation\n",
    "\n",
    "embed_dim  = 52  # word embedding dimension\n",
    "nhid       = 128  # number of hidden units in the LSTM\n",
    "vocab_size = 25000  # size of the vocabulary\n",
    "n_classes  = 5\n",
    "\n",
    "model = Sequential()\n",
    "model.add(Embedding(vocab_size, embed_dim))\n",
    "model.add(LSTM(nhid, dropout=0.2, recurrent_dropout=0.2))\n",
    "model.add(Dense(n_classes, activation='softmax'))\n"
   ]
  },
  {
   "cell_type": "code",
   "execution_count": 99,
   "metadata": {},
   "outputs": [
    {
     "name": "stdout",
     "output_type": "stream",
     "text": [
      "_________________________________________________________________\n",
      "Layer (type)                 Output Shape              Param #   \n",
      "=================================================================\n",
      "embedding_12 (Embedding)     (None, None, 52)          1300000   \n",
      "_________________________________________________________________\n",
      "lstm_12 (LSTM)               (None, 128)               92672     \n",
      "_________________________________________________________________\n",
      "dense_12 (Dense)             (None, 5)                 645       \n",
      "=================================================================\n",
      "Total params: 1,393,317\n",
      "Trainable params: 1,393,317\n",
      "Non-trainable params: 0\n",
      "_________________________________________________________________\n",
      "None\n"
     ]
    }
   ],
   "source": [
    "# 5 - Define your loss/optimizer/metrics\n",
    "\n",
    "# MODIFY CODE BELOW\n",
    "\n",
    "loss_classif     =  'categorical_crossentropy' # find the right loss for multi-class classification\n",
    "optimizer        =  'adam' # find the right optimizer\n",
    "metrics_classif  =  ['accuracy']\n",
    "\n",
    "# Observe how easy (but blackboxed) this is in Keras\n",
    "model.compile(loss=loss_classif,\n",
    "              optimizer=optimizer,\n",
    "              metrics=metrics_classif)\n",
    "print(model.summary())"
   ]
  },
  {
   "cell_type": "code",
   "execution_count": 100,
   "metadata": {
    "scrolled": false
   },
   "outputs": [
    {
     "name": "stdout",
     "output_type": "stream",
     "text": [
      "Train on 8544 samples, validate on 1101 samples\n",
      "Epoch 1/2\n",
      "8544/8544 [==============================] - 28s 3ms/step - loss: 1.5653 - acc: 0.2849 - val_loss: 1.5458 - val_acc: 0.2761\n",
      "Epoch 2/2\n",
      "8544/8544 [==============================] - 25s 3ms/step - loss: 1.3793 - acc: 0.4046 - val_loss: 1.3950 - val_acc: 0.3760\n"
     ]
    },
    {
     "data": {
      "text/plain": [
       "<matplotlib.legend.Legend at 0x1eaee5e8e10>"
      ]
     },
     "execution_count": 100,
     "metadata": {},
     "output_type": "execute_result"
    },
    {
     "data": {
      "image/png": "[encoded data removed]",
      "text/plain": [
       "<matplotlib.figure.Figure at 0x1eae433a358>"
      ]
     },
     "metadata": {},
     "output_type": "display_data"
    }
   ],
   "source": [
    "# 6 - Train your model and find the best hyperparameters for your dev set\n",
    "#     you will be evaluated on the quality of your predictions on the test set\n",
    "\n",
    "# ADAPT CODE BELOW\n",
    "bs = 64\n",
    "n_epochs = 2\n",
    "#Trial with more epochs have been made to show the network overfitting as it is trained \n",
    "#(showed on the graphs below if we increase the number of epochs)\n",
    " \n",
    "\n",
    "history = model.fit(x_train, y_train, batch_size=bs, epochs=n_epochs, validation_data=(x_dev, y_dev))\n",
    "\n",
    "\n",
    "#PLots of loss and accuracy with respect to the number of epochs\n",
    "plt.subplots(1,2,figsize=(10,4))\n",
    "plt.subplot(121)\n",
    "plt.plot(range(1,n_epochs+1), history.history[\"loss\"], 'b', label='train_loss')\n",
    "plt.plot(range(1,n_epochs+1), history.history[\"val_loss\"], 'r', label='dev_loss')\n",
    "plt.xlabel(\"Number of epochs\")\n",
    "plt.ylabel(\"Loss\")\n",
    "plt.title(\"Loss with respect to the number of epochs\")\n",
    "plt.legend()\n",
    "plt.subplot(122)\n",
    "plt.plot(range(1,n_epochs+1), history.history[\"acc\"], 'b', label='train_accuracy')\n",
    "plt.plot(range(1,n_epochs+1), history.history[\"val_acc\"], 'r',label='dev_accuracy')\n",
    "plt.xlabel(\"Number of epochs\")\n",
    "plt.ylabel(\"Accuracy\")\n",
    "plt.title(\"Accuracy with respect to the number of epochs\")\n",
    "plt.legend()"
   ]
  },
  {
   "cell_type": "code",
   "execution_count": 105,
   "metadata": {},
   "outputs": [],
   "source": [
    "# 7 - Generate your predictions on the test set using model.predict(x_test)\n",
    "#     https://keras.io/models/model/\n",
    "#     Log your predictions in a file (one line = one integer: 0,1,2,3,4)\n",
    "#     Attach the output file \"logreg_lstm_y_test_sst.txt\" to your deliverable.\n",
    "\n",
    "# TYPE CODE HERE\n",
    "\n",
    "predictions = model.predict(x_test)\n",
    "\n",
    "f = io.open(os.path.join(PATH_TO_DATA, 'SST/logreg_lstm_y_test_sst.txt'),'w')\n",
    "for i in range(len(predictions)):\n",
    "        f.write(str(np.argmax(predictions[i])) + \"\\n\")\n",
    "f.close()\n"
   ]
  },
  {
   "cell_type": "markdown",
   "metadata": {},
   "source": [
    "## 4.3 -- innovate !"
   ]
  },
  {
   "cell_type": "code",
   "execution_count": 8,
   "metadata": {
    "scrolled": false
   },
   "outputs": [
    {
     "name": "stdout",
     "output_type": "stream",
     "text": [
      "Loaded 19765 pretrained word vectors\n",
      "_________________________________________________________________\n",
      "Layer (type)                 Output Shape              Param #   \n",
      "=================================================================\n",
      "conv1d_1 (Conv1D)            (None, 296, 32)           192       \n",
      "_________________________________________________________________\n",
      "flatten_1 (Flatten)          (None, 9472)              0         \n",
      "_________________________________________________________________\n",
      "dense_1 (Dense)              (None, 100)               947300    \n",
      "_________________________________________________________________\n",
      "dense_2 (Dense)              (None, 5)                 505       \n",
      "=================================================================\n",
      "Total params: 947,997\n",
      "Trainable params: 947,997\n",
      "Non-trainable params: 0\n",
      "_________________________________________________________________\n",
      "None\n",
      "Train on 8544 samples, validate on 1101 samples\n",
      "Epoch 1/5\n",
      "8544/8544 [==============================] - 9s 1ms/step - loss: 1.4387 - acc: 0.3604 - val_loss: 1.3691 - val_acc: 0.3688\n",
      "Epoch 2/5\n",
      "8544/8544 [==============================] - 9s 1ms/step - loss: 1.3212 - acc: 0.4271 - val_loss: 1.3500 - val_acc: 0.3960\n",
      "Epoch 3/5\n",
      "8544/8544 [==============================] - 10s 1ms/step - loss: 1.2743 - acc: 0.4501 - val_loss: 1.3689 - val_acc: 0.3951\n",
      "Epoch 4/5\n",
      "8544/8544 [==============================] - 9s 1ms/step - loss: 1.2500 - acc: 0.4648 - val_loss: 1.3715 - val_acc: 0.3978\n",
      "Epoch 5/5\n",
      "8544/8544 [==============================] - 10s 1ms/step - loss: 1.2181 - acc: 0.4841 - val_loss: 1.3863 - val_acc: 0.3842\n"
     ]
    }
   ],
   "source": [
    "# 8 - Open question: find a model that is better on your dev set\n",
    "#     (e.g: use a 1D ConvNet, use a better classifier, pretrain your lookup tables ..)\n",
    "#     you will get point if the results on the test set are better: be careful of not overfitting your dev set too much..\n",
    "#     Attach the output file \"XXX_XXX_y_test_sst.txt\" to your deliverable.\n",
    "\n",
    "# TYPE CODE HERE\n",
    "PATH_TO_DATA = r\"C:/Users/assae/Documents/Cours CS/3A/OMA/Deep learning/Deep Learning MVA/MVA_MP2/nlp_project/data/\"\n",
    "\n",
    "from keras.models import Sequential\n",
    "from keras.layers import Embedding, LSTM, Dense, Activation, Conv1D, Flatten, Dropout, MaxPooling1D\n",
    "\n",
    "\n",
    "\n",
    "### Loading the data ###\n",
    "\n",
    "x_train = []\n",
    "sentences_train_label = []\n",
    "with io.open(os.path.join(PATH_TO_DATA, 'SST/stsa.fine.train'), encoding='utf-8') as f:\n",
    "    for line in f: \n",
    "        x_train.append(line.split(' ', 1)[1])\n",
    "        sentences_train_label.append(int(line.split(' ', 1)[0]))\n",
    "y_train = keras.utils.to_categorical(sentences_train_label)\n",
    "size_train = len(x_train)\n",
    "\n",
    "x_dev = []\n",
    "sentences_dev_label = []\n",
    "with io.open(os.path.join(PATH_TO_DATA, 'SST/stsa.fine.dev'), encoding='utf-8') as f:\n",
    "    for line in f: \n",
    "        x_dev.append(line.split(' ', 1)[1])\n",
    "        sentences_dev_label.append(int(line.split(' ', 1)[0]))\n",
    "y_dev = keras.utils.to_categorical(sentences_dev_label)\n",
    "size_dev = len(x_dev)\n",
    "        \n",
    "with io.open(os.path.join(PATH_TO_DATA, 'SST/stsa.fine.test'), encoding='utf-8') as f:\n",
    "    x_test = list(f)\n",
    "size_test = len(x_test)\n",
    "\n",
    "\n",
    "\n",
    "### Encoding our data with the BoV model using IDF-weighted average ###\n",
    "\n",
    "w2v = Word2vec(os.path.join(PATH_TO_DATA, 'crawl-300d-200k.vec'), nmax=25000)\n",
    "s2v = BoV(w2v)\n",
    "\n",
    "sentences = []\n",
    "for sent in np.concatenate(([*x_train], [*x_dev], [*x_test])): \n",
    "    sentences.append(sent)\n",
    "    \n",
    "idf = s2v.build_idf(sentences)\n",
    "\n",
    "x_train = s2v.encode(x_train, idf)\n",
    "x_dev = s2v.encode(x_dev, idf)\n",
    "x_test = s2v.encode(x_test, idf)\n",
    "\n",
    "\n",
    "\n",
    "### Reshaping our data ###\n",
    "\n",
    "embed_dim  = 300  # word embedding dimension\n",
    "\n",
    "x_train = x_train.reshape((size_train, embed_dim, 1))\n",
    "x_dev = x_dev.reshape((size_dev, embed_dim, 1))\n",
    "x_test = x_test.reshape((size_test, embed_dim, 1))\n",
    "\n",
    "\n",
    "\n",
    "### Building and fitting the CNN ###\n",
    "\n",
    "n_classes  = 5\n",
    "\n",
    "model = Sequential()\n",
    "model.add(Conv1D(filters=32, kernel_size=5, activation='relu',input_shape=(embed_dim,1)))\n",
    "model.add(Flatten())\n",
    "model.add(Dense(100, activation='sigmoid'))\n",
    "model.add(Dense(n_classes, activation='softmax'))\n",
    "\n",
    "loss_classif     =  'categorical_crossentropy' # find the right loss for multi-class classification\n",
    "optimizer        =  'adam' # find the right optimizer\n",
    "metrics_classif  =  ['accuracy']\n",
    "\n",
    "model.compile(loss=loss_classif,\n",
    "              optimizer=optimizer,\n",
    "              metrics=metrics_classif)\n",
    "print(model.summary())\n",
    "\n",
    "bs = 32\n",
    "n_epochs = 5\n",
    "history = model.fit(x_train, y_train, batch_size=bs, epochs=n_epochs, validation_data=(x_dev, y_dev))\n",
    "\n",
    "\n",
    "\n",
    "### Making the predictions ###\n",
    "predictions = model.predict(x_test)\n",
    "\n",
    "f = io.open(os.path.join(PATH_TO_DATA, 'SST/cnn_y_test_sst.txt'),'w')\n",
    "for i in range(len(predictions)):\n",
    "        f.write(str(np.argmax(predictions[i])) + \"\\n\")\n",
    "f.close()"
   ]
  }
 ],
 "metadata": {
  "kernelspec": {
   "display_name": "Python 3",
   "language": "python",
   "name": "python3"
  },
  "language_info": {
   "codemirror_mode": {
    "name": "ipython",
    "version": 3
   },
   "file_extension": ".py",
   "mimetype": "text/x-python",
   "name": "python",
   "nbconvert_exporter": "python",
   "pygments_lexer": "ipython3",
   "version": "3.6.4"
  }
 },
 "nbformat": 4,
 "nbformat_minor": 1
}
